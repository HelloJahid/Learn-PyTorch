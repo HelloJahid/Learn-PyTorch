{
 "cells": [
  {
   "cell_type": "markdown",
   "metadata": {},
   "source": [
    "'''\n",
    "## Author\n",
    "+ Name: Jahid Hasan\n",
    "+ 𝐏𝐡𝐨𝐧𝐞:   (+880) 1772905097 (Whatsapp)\n",
    "+ 𝘔𝘢𝘪𝘭:     jahidnoyon36@gmail.com\n",
    "+ LinkedIn: http://linkedin.com/in/hellojahid\n",
    "\n",
    "'''"
   ]
  },
  {
   "cell_type": "markdown",
   "metadata": {},
   "source": [
    "#                         `Linear Regression`"
   ]
  },
  {
   "cell_type": "markdown",
   "metadata": {},
   "source": [
    "## Load module"
   ]
  },
  {
   "cell_type": "code",
   "execution_count": 2,
   "metadata": {},
   "outputs": [],
   "source": [
    "import torch\n",
    "import torch.nn as nn\n",
    "import  matplotlib.pyplot as plt\n",
    "import numpy as np\n",
    "\n",
    "\n"
   ]
  },
  {
   "cell_type": "markdown",
   "metadata": {},
   "source": [
    "##  Make data"
   ]
  },
  {
   "cell_type": "code",
   "execution_count": 3,
   "metadata": {},
   "outputs": [
    {
     "data": {
      "image/png": "[encoded data removed]",
      "text/plain": [
       "<Figure size 432x288 with 1 Axes>"
      ]
     },
     "metadata": {
      "needs_background": "light"
     },
     "output_type": "display_data"
    }
   ],
   "source": [
    "\n",
    "\n",
    "X = torch.randn(100, 1)*10\n",
    "y = X + 3 * torch.randn(100, 1)\n",
    "plt.ylabel(\"y\")\n",
    "plt.xlabel(\"x\")\n",
    "plt.scatter(X, y)\n",
    "plt.show()\n"
   ]
  },
  {
   "cell_type": "markdown",
   "metadata": {},
   "source": [
    "## Linear Regression Model"
   ]
  },
  {
   "cell_type": "code",
   "execution_count": 1,
   "metadata": {},
   "outputs": [],
   "source": [
    "class LRM(nn.Module):\n",
    "\n",
    "    def __init__(self, input_size, output_size):\n",
    "        super().__init__()\n",
    "        self.linear = nn.Linear(input_size, output_size) \n",
    "    \n",
    "    # computes output Tensors from input Tensors.\n",
    "    def forward(self, x):\n",
    "        pred = self.linear(x)\n",
    "        return pred\n",
    "\n",
    "# instantiate model\n",
    "model = LRM(1, 1)\n",
    "\n",
    "# Loss function and optimizer\n",
    "get_loss = nn.MSELoss()\n",
    "optimizer = torch.optim.SGD(model.parameters(), lr=0.001)\n",
    "print(model)\n",
    "[m, b] = model.parameters()\n",
    "\n",
    "EPOCHS = 500\n",
    "losses = []\n",
    "\n",
    "# traning the LR model\n",
    "for epoch in range(EPOCHS):\n",
    "    optimizer.zero_grad() # the gradients are set to 0\n",
    "    \n",
    "    predy = model(X) # pred input data \n",
    "    loss = get_loss(predy, y) # calculate loss \n",
    "    loss.backward() # calculates the gradient \n",
    "    optimizer.step()  # updates the weights based on the gradients\n",
    "\n",
    "    print('Epoch: {}, Loss: {}'.format(epoch, loss)) # print loss\n",
    "\n"
   ]
  },
  {
   "cell_type": "markdown",
   "metadata": {},
   "source": [
    "## Best fit Line from LR model"
   ]
  },
  {
   "cell_type": "code",
   "execution_count": 6,
   "metadata": {},
   "outputs": [
    {
     "data": {
      "image/png": "[encoded data removed]",
      "text/plain": [
       "<Figure size 432x288 with 1 Axes>"
      ]
     },
     "metadata": {
      "needs_background": "light"
     },
     "output_type": "display_data"
    }
   ],
   "source": [
    "def get_parameters():\n",
    "    return (m[0][0].item(), b[0].item())\n",
    "\n",
    "def plot_fit(title):\n",
    "    plt.title = title\n",
    "    m1, b1 = get_parameters()\n",
    "    x1 = torch.tensor([-30.0,30.0],requires_grad=False)\n",
    "    y1 = m1 * x1 + b1\n",
    "    plt.plot(x1, y1, 'r')\n",
    "    plt.scatter(X, y)\n",
    "    plt.show()\n",
    "\n",
    "\n",
    "plot_fit(\"Training model\")"
   ]
  },
  {
   "cell_type": "code",
   "execution_count": null,
   "metadata": {},
   "outputs": [],
   "source": []
  },
  {
   "cell_type": "code",
   "execution_count": null,
   "metadata": {},
   "outputs": [],
   "source": []
  },
  {
   "cell_type": "code",
   "execution_count": null,
   "metadata": {},
   "outputs": [],
   "source": []
  }
 ],
 "metadata": {
  "kernelspec": {
   "display_name": "Python 3",
   "language": "python",
   "name": "python3"
  },
  "language_info": {
   "codemirror_mode": {
    "name": "ipython",
    "version": 3
   },
   "file_extension": ".py",
   "mimetype": "text/x-python",
   "name": "python",
   "nbconvert_exporter": "python",
   "pygments_lexer": "ipython3",
   "version": "3.8.5"
  }
 },
 "nbformat": 4,
 "nbformat_minor": 4
}
