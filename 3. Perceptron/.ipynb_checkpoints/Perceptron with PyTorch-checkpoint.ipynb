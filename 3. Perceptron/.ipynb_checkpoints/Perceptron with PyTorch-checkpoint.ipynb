{
 "cells": [
  {
   "cell_type": "markdown",
   "metadata": {},
   "source": [
    "## Author\n",
    "+ Name: Jahid Hasan\n",
    "+ 𝐏𝐡𝐨𝐧𝐞:   (+880) 1772905097 (Whatsapp)\n",
    "+ 𝘔𝘢𝘪𝘭:     jahidnoyon36@gmail.com\n",
    "+ LinkedIn: http://linkedin.com/in/hellojahid\n"
   ]
  },
  {
   "cell_type": "code",
   "execution_count": 1,
   "metadata": {},
   "outputs": [],
   "source": [
    "# import module\n",
    "import torch\n",
    "import numpy as np\n",
    "import torch.nn as nn\n",
    "import matplotlib.pyplot as plt\n",
    "from sklearn.datasets import make_blobs\n"
   ]
  },
  {
   "cell_type": "code",
   "execution_count": 2,
   "metadata": {},
   "outputs": [],
   "source": [
    "# create datasets\n",
    "n_point = 100\n",
    "centers = [[-0.5, 0.5], [0.5, -0.5]]\n",
    "x, y = make_blobs(n_samples=n_point, random_state=101, centers=centers, cluster_std=0.4)\n",
    "\n",
    "# convert data into Tensor\n",
    "xdata = torch.Tensor(x)\n",
    "ydata=torch.Tensor(y.reshape(100,1))\n",
    "\n"
   ]
  },
  {
   "cell_type": "code",
   "execution_count": 3,
   "metadata": {},
   "outputs": [
    {
     "data": {
      "image/png": "[encoded data removed]",
      "text/plain": [
       "<Figure size 432x288 with 1 Axes>"
      ]
     },
     "metadata": {
      "needs_background": "light"
     },
     "output_type": "display_data"
    }
   ],
   "source": [
    "\n",
    "# plotting data\n",
    "def scatter_plot():\n",
    "    plt.scatter(x[y==0,0], x[y==0, 1])\n",
    "    plt.scatter(x[y==1,0], x[y==1, 1])\n",
    "    # plt.show()\n",
    "\n",
    "\n",
    "scatter_plot()\n",
    "\n"
   ]
  },
  {
   "cell_type": "code",
   "execution_count": 5,
   "metadata": {},
   "outputs": [],
   "source": [
    "# Perceptron class\n",
    "class Perceptron(nn.Module):\n",
    "\n",
    "    def __init__(self, input_size, output_size):\n",
    "        super(Perceptron, self).__init__()  # # nn.Module class itself initialized\n",
    "        # nn layer\n",
    "        self.layer1 = nn.Linear(input_size, output_size)\n",
    "\n",
    "    # building Perceptron network\n",
    "    def forward(self, x):\n",
    "        pred = torch.sigmoid(self.layer1(x))\n",
    "\n",
    "        return pred\n",
    "\n",
    "    # predict function\n",
    "    def predict(self, x):\n",
    "        pred = torch.sigmoid(self.layer1(x))\n",
    "\n",
    "        if pred >= 0.5:\n",
    "            return 1\n",
    "        else:\n",
    "            return 0\n",
    "\n"
   ]
  },
  {
   "cell_type": "code",
   "execution_count": 12,
   "metadata": {},
   "outputs": [],
   "source": [
    "\n",
    "\n",
    "# randomseed\n",
    "torch.manual_seed(2)\n",
    "model = Perceptron(2, 1)\n",
    "\n",
    "# loss and  OPTIMIZER\n",
    "model_loss = nn.BCELoss()\n",
    "optimizer = torch.optim.SGD(model.parameters(), lr=0.001)\n",
    "\n",
    "\n",
    "\n",
    "# model parameters\n",
    "def get_parameters(model):\n",
    "    [m, b] = model.parameters()\n",
    "    m1, m2 = m.view(2)\n",
    "    b1 = b[0]\n",
    "\n",
    "    return(m1.item(), m2.item(), b1.item())\n",
    "\n",
    "\n",
    "\n",
    "# train the model\n",
    "loss_list = []\n",
    "EPOCHS = 10000\n",
    "\n",
    "for e in range(EPOCHS):\n",
    "    # set gradient to zero\n",
    "    optimizer.zero_grad()\n",
    "\n",
    "    # xdata = xdata.squeeze(1)\n",
    "    ypred = model.forward(xdata) # predict data from input\n",
    "    loss = model_loss(ypred, ydata) # calculate loss\n",
    "    loss.backward()  # calculate gradient\n",
    "    optimizer.step() # update wieght based on gradient\n",
    "\n",
    "    loss_list.append(loss)\n",
    "\n",
    "    print(\"EPOCHS: {}, Loss: {}\".format(e+1, loss.item()))\n",
    "\n"
   ]
  },
  {
   "cell_type": "code",
   "execution_count": 11,
   "metadata": {},
   "outputs": [
    {
     "data": {
      "image/png": "[encoded data removed]",
      "text/plain": [
       "<Figure size 432x288 with 1 Axes>"
      ]
     },
     "metadata": {
      "needs_background": "light"
     },
     "output_type": "display_data"
    }
   ],
   "source": [
    "# plot best fit line\n",
    "def plot_fit(model):\n",
    "    plt.title(\"Training\")\n",
    "    m1, m2, b1 = get_parameters(model)\n",
    "    x1 = torch.tensor([-2.0,2.0],requires_grad=False)\n",
    "    y1 = ((m1 * x1) +b1) / -m2\n",
    "    plt.plot(x1, y1, 'r')\n",
    "    scatter_plot()\n",
    "\n",
    "plot_fit(model)"
   ]
  },
  {
   "cell_type": "code",
   "execution_count": null,
   "metadata": {},
   "outputs": [],
   "source": []
  },
  {
   "cell_type": "code",
   "execution_count": null,
   "metadata": {},
   "outputs": [],
   "source": []
  }
 ],
 "metadata": {
  "kernelspec": {
   "display_name": "Python 3",
   "language": "python",
   "name": "python3"
  },
  "language_info": {
   "codemirror_mode": {
    "name": "ipython",
    "version": 3
   },
   "file_extension": ".py",
   "mimetype": "text/x-python",
   "name": "python",
   "nbconvert_exporter": "python",
   "pygments_lexer": "ipython3",
   "version": "3.8.5"
  }
 },
 "nbformat": 4,
 "nbformat_minor": 4
}
